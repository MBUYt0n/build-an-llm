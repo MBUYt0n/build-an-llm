{
 "cells": [
  {
   "cell_type": "markdown",
   "id": "570ed9f2",
   "metadata": {
    "papermill": {
     "duration": 0.006063,
     "end_time": "2024-07-20T05:40:42.480063",
     "exception": false,
     "start_time": "2024-07-20T05:40:42.474000",
     "status": "completed"
    },
    "tags": []
   },
   "source": [
    "# Data import"
   ]
  },
  {
   "cell_type": "code",
   "execution_count": 1,
   "id": "02c66b49",
   "metadata": {
    "_cell_guid": "b1076dfc-b9ad-4769-8c92-a6c4dae69d19",
    "_uuid": "8f2839f25d086af736a60e9eeb907d3b93b6e0e5",
    "execution": {
     "iopub.execute_input": "2024-07-20T05:40:42.492809Z",
     "iopub.status.busy": "2024-07-20T05:40:42.492471Z",
     "iopub.status.idle": "2024-07-20T05:40:42.661608Z",
     "shell.execute_reply": "2024-07-20T05:40:42.660861Z"
    },
    "papermill": {
     "duration": 0.177885,
     "end_time": "2024-07-20T05:40:42.663811",
     "exception": false,
     "start_time": "2024-07-20T05:40:42.485926",
     "status": "completed"
    },
    "tags": []
   },
   "outputs": [],
   "source": [
    "import numpy as np\n",
    "import os\n",
    "\n",
    "l = os.listdir(\"/kaggle/input/marvel-cinematic-universe-dialogue-dataset\")\n",
    "x = []\n",
    "for i in l:\n",
    "        f = open(f\"/kaggle/input/marvel-cinematic-universe-dialogue-dataset/{i}\", \"r\", errors='replace')\n",
    "        x.append(f.read())"
   ]
  },
  {
   "cell_type": "markdown",
   "id": "d9482ea3",
   "metadata": {
    "papermill": {
     "duration": 0.005651,
     "end_time": "2024-07-20T05:40:42.696307",
     "exception": false,
     "start_time": "2024-07-20T05:40:42.690656",
     "status": "completed"
    },
    "tags": []
   },
   "source": [
    "# Tokenizing"
   ]
  },
  {
   "cell_type": "code",
   "execution_count": 3,
   "id": "589e6a87",
   "metadata": {
    "execution": {
     "iopub.execute_input": "2024-07-20T05:40:42.708935Z",
     "iopub.status.busy": "2024-07-20T05:40:42.708667Z",
     "iopub.status.idle": "2024-07-20T05:40:46.346195Z",
     "shell.execute_reply": "2024-07-20T05:40:46.345439Z"
    },
    "papermill": {
     "duration": 3.646488,
     "end_time": "2024-07-20T05:40:46.348572",
     "exception": false,
     "start_time": "2024-07-20T05:40:42.702084",
     "status": "completed"
    },
    "tags": []
   },
   "outputs": [],
   "source": [
    "from transformers import GPT2Tokenizer\n",
    "import torch\n",
    "import os\n",
    "import numpy as np\n",
    "\n",
    "\n",
    "class Tokenize:\n",
    "    def __init__(self, corpus):\n",
    "        self.corpus = corpus\n",
    "        self.tokenizer = GPT2Tokenizer.from_pretrained(\"gpt2\")\n",
    "\n",
    "    def tokenize(self):\n",
    "        tok = []\n",
    "        toks = []\n",
    "        for i in self.corpus:\n",
    "            tok.append(self.tokenizer.encode(i, return_tensors=\"pt\")[0])\n",
    "            toks.append(torch.cat(tok, dim=0))\n",
    "        return toks\n",
    "\n",
    "    def get_data(self, seq_length):\n",
    "        inps = []\n",
    "        toks = self.tokenize()\n",
    "        for j in toks:\n",
    "            for i in range(seq_length, len(j) - 1):\n",
    "                inps.append(j[i - seq_length : i + 1])\n",
    "        return torch.utils.data.DataLoader(inps, batch_size=256, shuffle=True)\n",
    "\n",
    "    def decode(self, x):\n",
    "        return self.tokenizer.decode(x)"
   ]
  },
  {
   "cell_type": "code",
   "execution_count": 4,
   "id": "9627a7f5",
   "metadata": {
    "execution": {
     "iopub.execute_input": "2024-07-20T05:40:46.361953Z",
     "iopub.status.busy": "2024-07-20T05:40:46.361523Z",
     "iopub.status.idle": "2024-07-20T05:40:46.370703Z",
     "shell.execute_reply": "2024-07-20T05:40:46.369909Z"
    },
    "papermill": {
     "duration": 0.017944,
     "end_time": "2024-07-20T05:40:46.372800",
     "exception": false,
     "start_time": "2024-07-20T05:40:46.354856",
     "status": "completed"
    },
    "tags": []
   },
   "outputs": [],
   "source": [
    "import torch\n",
    "\n",
    "\n",
    "class Head(torch.nn.Module):\n",
    "    def __init__(self, n_embd, head_size, max_seq_length):\n",
    "        super().__init__()\n",
    "        self.head_size = head_size\n",
    "        self.key = torch.nn.Linear(n_embd, self.head_size, bias=False)\n",
    "        self.query = torch.nn.Linear(n_embd, self.head_size, bias=False)\n",
    "        self.values = torch.nn.Linear(n_embd, self.head_size, bias=False)\n",
    "        self.scale_factor = self.head_size**-0.5\n",
    "        self.max_seq_length = max_seq_length\n",
    "\n",
    "    def forward(self, q, k, v):\n",
    "        k = self.key(k)\n",
    "        q = self.query(q)\n",
    "        v = self.values(v)\n",
    "        w = (q @ k.transpose(-2, -1)) * self.scale_factor\n",
    "\n",
    "        w = torch.nn.functional.softmax(w, dim=-1)\n",
    "        return w @ v"
   ]
  },
  {
   "cell_type": "code",
   "execution_count": 5,
   "id": "215d1940",
   "metadata": {
    "execution": {
     "iopub.execute_input": "2024-07-20T05:40:46.386112Z",
     "iopub.status.busy": "2024-07-20T05:40:46.385846Z",
     "iopub.status.idle": "2024-07-20T05:40:46.392346Z",
     "shell.execute_reply": "2024-07-20T05:40:46.391469Z"
    },
    "papermill": {
     "duration": 0.015448,
     "end_time": "2024-07-20T05:40:46.394323",
     "exception": false,
     "start_time": "2024-07-20T05:40:46.378875",
     "status": "completed"
    },
    "tags": []
   },
   "outputs": [],
   "source": [
    "import torch\n",
    "from head import Head\n",
    "\n",
    "\n",
    "class MultiHeadAttention(torch.nn.Module):\n",
    "    def __init__(self, num_heads, n_embd, max_seq_length):\n",
    "        super().__init__()\n",
    "        self.heads = torch.nn.ModuleList(\n",
    "            [\n",
    "                Head(n_embd, n_embd // num_heads, max_seq_length)\n",
    "                for i in range(num_heads)\n",
    "            ]\n",
    "        )\n",
    "        self.out = torch.nn.Linear(n_embd, n_embd)\n",
    "\n",
    "    def forward(self, q, k, v):\n",
    "        head_out = [head(q, k, v) for head in self.heads]\n",
    "        concat = torch.cat(head_out, dim=-1)\n",
    "        return self.out(concat)"
   ]
  },
  {
   "cell_type": "code",
   "execution_count": 6,
   "id": "082298ca",
   "metadata": {
    "execution": {
     "iopub.execute_input": "2024-07-20T05:40:46.406937Z",
     "iopub.status.busy": "2024-07-20T05:40:46.406648Z",
     "iopub.status.idle": "2024-07-20T05:40:46.412122Z",
     "shell.execute_reply": "2024-07-20T05:40:46.411261Z"
    },
    "papermill": {
     "duration": 0.014128,
     "end_time": "2024-07-20T05:40:46.414128",
     "exception": false,
     "start_time": "2024-07-20T05:40:46.400000",
     "status": "completed"
    },
    "tags": []
   },
   "outputs": [],
   "source": [
    "import torch\n",
    "\n",
    "\n",
    "class FF(torch.nn.Module):\n",
    "    def __init__(self, n_embd):\n",
    "        super().__init__()\n",
    "        self.linear1 = torch.nn.Linear(n_embd, 8 * n_embd)\n",
    "        self.linear2 = torch.nn.Linear(8 * n_embd, n_embd)\n",
    "\n",
    "    def forward(self, x):\n",
    "        return self.linear2(torch.nn.functional.relu(self.linear1(x)))"
   ]
  },
  {
   "cell_type": "code",
   "execution_count": 7,
   "id": "bff4a722",
   "metadata": {
    "execution": {
     "iopub.execute_input": "2024-07-20T05:40:46.426849Z",
     "iopub.status.busy": "2024-07-20T05:40:46.426560Z",
     "iopub.status.idle": "2024-07-20T05:40:46.438422Z",
     "shell.execute_reply": "2024-07-20T05:40:46.437788Z"
    },
    "papermill": {
     "duration": 0.020431,
     "end_time": "2024-07-20T05:40:46.440328",
     "exception": false,
     "start_time": "2024-07-20T05:40:46.419897",
     "status": "completed"
    },
    "tags": []
   },
   "outputs": [],
   "source": [
    "import torch\n",
    "from multihead import MultiHeadAttention\n",
    "from ff import FF\n",
    "from tok import Tokenize\n",
    "import os\n",
    "\n",
    "\n",
    "class Encode(torch.nn.Module):\n",
    "    def __init__(self, num_heads, n_embd, max_seq_length):\n",
    "        super().__init__()\n",
    "        self.ff = FF(n_embd)\n",
    "        self.attn = MultiHeadAttention(num_heads, n_embd, max_seq_length)\n",
    "        self.l1 = torch.nn.LayerNorm(n_embd)\n",
    "        self.l2 = torch.nn.LayerNorm(n_embd)\n",
    "        self.dropout1 = torch.nn.Dropout(0.2)\n",
    "        self.dropout2 = torch.nn.Dropout(0.2)\n",
    "        self.dropout3 = torch.nn.Dropout(0.2)\n",
    "\n",
    "    def forward(self, x):\n",
    "        attn_out = self.attn(x, x, x)\n",
    "        x = self.l1(self.dropout1(attn_out) + x)\n",
    "        ff_out = self.ff(x)\n",
    "        ff_out = self.l2(self.dropout2(ff_out) + x)\n",
    "        attn_out = self.attn(ff_out, ff_out, ff_out)\n",
    "        return self.l2(self.dropout3(attn_out) + ff_out)\n",
    "\n",
    "\n",
    "class Encoder(torch.nn.Module):\n",
    "    def __init__(self, vocab_size, max_seq_length, num_heads, num_layers, n_embd):\n",
    "        super().__init__()\n",
    "        self.embedding = torch.nn.Embedding(vocab_size, n_embd)\n",
    "        self.pos_embedding = torch.nn.Embedding(max_seq_length, n_embd)\n",
    "        self.layers = torch.nn.ModuleList(\n",
    "            [Encode(num_heads, n_embd, max_seq_length) for i in range(num_layers)]\n",
    "        )\n",
    "        self.norm = torch.nn.LayerNorm(n_embd)\n",
    "        self.linear = torch.nn.Linear(n_embd, vocab_size)\n",
    "\n",
    "    def forward(self, x):\n",
    "        seq_length = x.shape[1]\n",
    "        positions = (\n",
    "            torch.arange(0, seq_length, device=x.device).unsqueeze(0).expand_as(x)\n",
    "        )\n",
    "        x1 = self.embedding(x) + self.pos_embedding(positions)\n",
    "        for layer in self.layers:\n",
    "            x1 = layer(x1)\n",
    "        return self.linear(self.norm(x1))"
   ]
  },
  {
   "cell_type": "code",
   "execution_count": 8,
   "id": "a3586391",
   "metadata": {
    "execution": {
     "iopub.execute_input": "2024-07-20T05:40:46.453133Z",
     "iopub.status.busy": "2024-07-20T05:40:46.452842Z",
     "iopub.status.idle": "2024-07-20T05:40:46.466009Z",
     "shell.execute_reply": "2024-07-20T05:40:46.465199Z"
    },
    "papermill": {
     "duration": 0.021632,
     "end_time": "2024-07-20T05:40:46.467777",
     "exception": false,
     "start_time": "2024-07-20T05:40:46.446145",
     "status": "completed"
    },
    "tags": []
   },
   "outputs": [],
   "source": [
    "import torch\n",
    "from multihead import MultiHeadAttention\n",
    "from ff import FF\n",
    "import os\n",
    "from tok import Tokenize\n",
    "from encoder import Encoder\n",
    "\n",
    "\n",
    "class Decode(torch.nn.Module):\n",
    "    def __init__(self, num_heads, n_embd, max_seq_length):\n",
    "        super().__init__()\n",
    "        self.attn1 = MultiHeadAttention(num_heads, n_embd, max_seq_length)\n",
    "        self.attn2 = MultiHeadAttention(num_heads, n_embd, max_seq_length)\n",
    "        self.norm1 = torch.nn.LayerNorm(n_embd)\n",
    "        self.norm2 = torch.nn.LayerNorm(n_embd)\n",
    "        self.norm3 = torch.nn.LayerNorm(n_embd)\n",
    "        self.ff = FF(n_embd)\n",
    "        self.dropout1 = torch.nn.Dropout(0.2)\n",
    "        self.dropout2 = torch.nn.Dropout(0.2)\n",
    "        self.dropout3 = torch.nn.Dropout(0.2)\n",
    "\n",
    "    def forward(self, x, enc):\n",
    "        attn_out = self.attn1(x, x, x)\n",
    "        x = self.norm1(x + self.dropout1(attn_out))\n",
    "        attn_out = self.attn2(x, enc, enc)\n",
    "        x = self.norm2(x + self.dropout2(attn_out))\n",
    "        return self.norm3(x + self.dropout3(self.ff(x)))\n",
    "\n",
    "\n",
    "class Decoder(torch.nn.Module):\n",
    "    def __init__(\n",
    "        self,\n",
    "        vocab_size,\n",
    "        max_seq_length,\n",
    "        num_layers,\n",
    "        num_heads,\n",
    "        n_embd,\n",
    "    ):\n",
    "        super().__init__()\n",
    "        self.embedding = torch.nn.Embedding(vocab_size, n_embd)\n",
    "        self.pos_embedding = torch.nn.Embedding(max_seq_length, n_embd)\n",
    "        self.layers = torch.nn.ModuleList(\n",
    "            [Decode(num_heads, n_embd, max_seq_length) for i in range(num_layers)]\n",
    "        )\n",
    "        self.norm = torch.nn.LayerNorm(n_embd)\n",
    "\n",
    "    def forward(self, x, enc_output):\n",
    "        seq_length = x.size(1)\n",
    "        positions = (\n",
    "            torch.arange(0, seq_length, device=x.device).unsqueeze(0).expand_as(x)\n",
    "        )\n",
    "        x1 = self.embedding(x) + self.pos_embedding(positions)\n",
    "\n",
    "        for layer in self.layers:\n",
    "            x1 = layer(x1, enc_output)\n",
    "        return self.norm(x1)"
   ]
  },
  {
   "cell_type": "code",
   "execution_count": 9,
   "id": "867b136e",
   "metadata": {
    "execution": {
     "iopub.execute_input": "2024-07-20T05:40:46.480395Z",
     "iopub.status.busy": "2024-07-20T05:40:46.480131Z",
     "iopub.status.idle": "2024-07-20T05:40:46.489855Z",
     "shell.execute_reply": "2024-07-20T05:40:46.489026Z"
    },
    "papermill": {
     "duration": 0.017913,
     "end_time": "2024-07-20T05:40:46.491628",
     "exception": false,
     "start_time": "2024-07-20T05:40:46.473715",
     "status": "completed"
    },
    "tags": []
   },
   "outputs": [],
   "source": [
    "import torch\n",
    "from encoder import Encoder\n",
    "from decoder import Decoder\n",
    "\n",
    "\n",
    "class LLM(torch.nn.Module):\n",
    "    def __init__(self, vocab_size, max_seq_length, num_heads, num_layers, n_embd):\n",
    "        super().__init__()\n",
    "        self.enc = Encoder(vocab_size, max_seq_length, num_heads, num_layers, n_embd)\n",
    "        self.dec = Decoder(vocab_size, max_seq_length, num_heads, num_layers, n_embd)\n",
    "        self.out = torch.nn.Linear(n_embd, vocab_size)\n",
    "        self.max_seq_length = max_seq_length\n",
    "        self.vocab_size = vocab_size\n",
    "\n",
    "    def forward(self, x, y=None, enc_out=None):\n",
    "        if enc_out is None:\n",
    "            enc_out = self.enc(x)\n",
    "        if y is not None:\n",
    "            dec_out = self.dec(y, enc_out)\n",
    "            return self.out(dec_out)\n",
    "        return enc_out\n",
    "\n",
    "    def generate(self, input_ids, max_length=50):\n",
    "        output = [int(i) for i in input_ids[0]]\n",
    "        with torch.no_grad():\n",
    "            for _ in range(max_length):\n",
    "                input_ids = input_ids.to(\"cuda\")\n",
    "                enc_out = self.forward(input_ids)\n",
    "                generated = enc_out[:, -1, :].softmax(dim=-1).argmax(dim=-1)\n",
    "                output.append(generated.item())\n",
    "                input_ids = torch.cat([input_ids, generated.unsqueeze(0)], dim=1)\n",
    "\n",
    "        return output"
   ]
  },
  {
   "cell_type": "code",
   "execution_count": 11,
   "id": "9a3faccb",
   "metadata": {
    "execution": {
     "iopub.execute_input": "2024-07-20T05:40:54.857357Z",
     "iopub.status.busy": "2024-07-20T05:40:54.857074Z",
     "iopub.status.idle": "2024-07-20T05:41:07.305664Z",
     "shell.execute_reply": "2024-07-20T05:41:07.304903Z"
    },
    "papermill": {
     "duration": 12.457862,
     "end_time": "2024-07-20T05:41:07.307976",
     "exception": false,
     "start_time": "2024-07-20T05:40:54.850114",
     "status": "completed"
    },
    "tags": []
   },
   "outputs": [
    {
     "name": "stderr",
     "output_type": "stream",
     "text": [
      "2024-07-20 05:40:57.145836: E external/local_xla/xla/stream_executor/cuda/cuda_dnn.cc:9261] Unable to register cuDNN factory: Attempting to register factory for plugin cuDNN when one has already been registered\n",
      "2024-07-20 05:40:57.145959: E external/local_xla/xla/stream_executor/cuda/cuda_fft.cc:607] Unable to register cuFFT factory: Attempting to register factory for plugin cuFFT when one has already been registered\n",
      "2024-07-20 05:40:57.289057: E external/local_xla/xla/stream_executor/cuda/cuda_blas.cc:1515] Unable to register cuBLAS factory: Attempting to register factory for plugin cuBLAS when one has already been registered\n"
     ]
    }
   ],
   "source": [
    "import torch\n",
    "import gc\n",
    "from torch.utils.tensorboard import SummaryWriter\n",
    "from tqdm import tqdm\n",
    "\n",
    "\n",
    "class Trainer:\n",
    "    def __init__(self, model):\n",
    "        self.model = model\n",
    "        self.lossFn = torch.nn.CrossEntropyLoss()\n",
    "        self.optimizer = torch.optim.AdamW(self.model.parameters(), lr=1e-4)\n",
    "        self.scheduler = torch.optim.lr_scheduler.ReduceLROnPlateau(\n",
    "            self.optimizer, \"min\", patience=2, factor=0.5\n",
    "        )\n",
    "\n",
    "    def train(self, trainLoader, epochs):\n",
    "        writer = SummaryWriter()\n",
    "        for epoch in range(epochs):\n",
    "            self.model.train()\n",
    "            for i, x in enumerate(tqdm(trainLoader)):\n",
    "                x = x.to(\"cuda\")\n",
    "                y = x[:, -1].to(\"cuda\").long()\n",
    "                x = x[:, :-1].to(\"cuda\")\n",
    "                self.optimizer.zero_grad()\n",
    "                yHat = self.model(x)\n",
    "                yHat = yHat[:, -1, :]\n",
    "                loss = self.lossFn(yHat, y)\n",
    "                loss.backward()\n",
    "                self.optimizer.step()\n",
    "                writer.add_scalar(\"loss\", loss.item(), epoch * len(trainLoader) + i)\n",
    "            self.scheduler.step(loss)\n",
    "\n",
    "            print(\"epoch\", epoch, \"loss\", loss.item())\n",
    "\n",
    "            gc.collect()\n",
    "            torch.cuda.empty_cache()\n",
    "\n",
    "        writer.close()"
   ]
  },
  {
   "cell_type": "code",
   "execution_count": 12,
   "id": "913721da",
   "metadata": {
    "execution": {
     "iopub.execute_input": "2024-07-20T05:41:07.321601Z",
     "iopub.status.busy": "2024-07-20T05:41:07.321091Z",
     "iopub.status.idle": "2024-07-20T05:41:07.325487Z",
     "shell.execute_reply": "2024-07-20T05:41:07.324700Z"
    },
    "papermill": {
     "duration": 0.013099,
     "end_time": "2024-07-20T05:41:07.327366",
     "exception": false,
     "start_time": "2024-07-20T05:41:07.314267",
     "status": "completed"
    },
    "tags": []
   },
   "outputs": [],
   "source": [
    "import torch\n",
    "import numpy as np\n",
    "import os\n",
    "\n",
    "\n",
    "l = os.listdir(\"data\")[:3]\n",
    "k = os.listdir(\"data\")[4:5]\n",
    "valcorpus = []\n",
    "for i in k:\n",
    "    with open(\"data/\" + i, \"r\") as f:\n",
    "        valcorpus.append(f.read())\n",
    "        f.close()\n",
    "valt = Tokenize(valcorpus)\n",
    "valdata = valt.get_data(10)\n",
    "\n",
    "corpus = []\n",
    "for i in l:\n",
    "    with open(\"data/\" + i, \"r\") as f:\n",
    "        corpus.append(f.read())\n",
    "        f.close()\n",
    "t = Tokenize(corpus)\n",
    "data = t.get_data(10)\n",
    "model = LLM(50257, 100, 4, 4, 768).to(\"cuda\")\n",
    "t = Trainer(model)\n",
    "t.train(data, 20)\n",
    "\n",
    "a = next(iter(valdata))[0]\n",
    "a = a.to(\"cuda\")\n",
    "x = model.generate(a.unsqueeze(0), 50)\n",
    "print(valt.decode(x))\n",
    "torch.save(model.state_dict(), \"model.pth\")"
   ]
  }
 ],
 "metadata": {
  "kaggle": {
   "accelerator": "nvidiaTeslaT4",
   "dataSources": [
    {
     "datasetId": 683366,
     "sourceId": 1199344,
     "sourceType": "datasetVersion"
    }
   ],
   "dockerImageVersionId": 30746,
   "isGpuEnabled": true,
   "isInternetEnabled": true,
   "language": "python",
   "sourceType": "notebook"
  },
  "kernelspec": {
   "display_name": "Python 3",
   "language": "python",
   "name": "python3"
  },
  "language_info": {
   "codemirror_mode": {
    "name": "ipython",
    "version": 3
   },
   "file_extension": ".py",
   "mimetype": "text/x-python",
   "name": "python",
   "nbconvert_exporter": "python",
   "pygments_lexer": "ipython3",
   "version": "3.10.13"
  },
  "papermill": {
   "default_parameters": {},
   "duration": 14183.287842,
   "end_time": "2024-07-20T09:37:03.070877",
   "environment_variables": {},
   "exception": null,
   "input_path": "__notebook__.ipynb",
   "output_path": "__notebook__.ipynb",
   "parameters": {},
   "start_time": "2024-07-20T05:40:39.783035",
   "version": "2.5.0"
  }
 },
 "nbformat": 4,
 "nbformat_minor": 5
}
